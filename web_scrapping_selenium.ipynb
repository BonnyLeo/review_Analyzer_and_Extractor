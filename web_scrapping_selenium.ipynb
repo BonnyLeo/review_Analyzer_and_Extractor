{
 "cells": [
  {
   "cell_type": "code",
   "execution_count": null,
   "metadata": {},
   "outputs": [],
   "source": [
    "!pip install selenium\n",
    "!pip install webdriver_manager"
   ]
  },
  {
   "cell_type": "code",
   "execution_count": null,
   "metadata": {},
   "outputs": [],
   "source": [
    "from time import sleep\n",
    "from selenium import webdriver\n",
    "from selenium.webdriver.chrome.service import Service\n",
    "from selenium.webdriver.common.by import By\n",
    "from webdriver_manager.chrome import ChromeDriverManager\n",
    "\n",
    "# a function defined to click on all reviews. It returns the the total number of reviews available\n",
    "def goto_reviews():\n",
    "    path = driver.find_element(By.XPATH, \"/html/body/div[3]/div[9]/div[9]/div/div/div[1]/div[2]/div/div[1]/div/div/div[2]/div[1]/div[1]/div[2]/div/div[1]/div[2]/span[2]/span[1]/span\")\n",
    "    review_count = int(path.text.split()[0])\n",
    "    path.click()\n",
    "    return review_count\n",
    "\n",
    "# a function defined to scrap every reviews available in the list 'reviews []'\n",
    "def get_review():\n",
    "    path = driver.find_elements(By.CLASS_NAME, \"wiI7pd\")\n",
    "    for i in range(review_count):\n",
    "        reviews.append(path[i].text)\n",
    "        sleep(1)\n",
    "\n",
    "# initializing variables\n",
    "url = \"https://www.google.com/maps/place/Kanjirapuzha+Dam+front+view/@10.9854159,76.5344599,17z/data=!4m12!1m6!3m5!1s0x3ba87db5747a98ab:0x3b73d3c931f6bc24!2sKANJIRAPUZHA+DAM+View+Point!8m2!3d10.9972981!4d76.5551125!3m4!1s0x0:0x3a97f06e7f030c4f!8m2!3d10.9857754!4d76.5354482\"\n",
    "review_count = 0                                                            # this is the total number of reviews available\n",
    "reviews = []                                                                # this is the array for storing the reviews\n",
    "\n",
    "# initialzing the driver\n",
    "driver = webdriver.Chrome(service=Service(ChromeDriverManager().install()))                    \n",
    "\n",
    "# going and scraping the data\n",
    "driver.get(url)                                                             # opening and loading the the given url in the web browser\n",
    "sleep(10)                                                                   # waiting for the website to load for 10 seconds\n",
    "review_count = goto_reviews()                                               # opens the 'all reviews' page and returns the total number of reviews available\n",
    "sleep(10)                                                                   # waiting for the website to load for 10 seconds\n",
    "get_review()                                                                # scraps the review datas\n",
    "driver.close()                                                              # closes the web browser\n",
    "\n",
    "# printing the output\n",
    "print(review_count)\n",
    "print(reviews)"
   ]
  },
  {
   "cell_type": "code",
   "execution_count": null,
   "metadata": {},
   "outputs": [],
   "source": [
    "\"\"\"\n",
    "\n",
    "url = \"https://www.google.com/maps/place/BHARANIKUZHI+WATER+FALL/@10.2110928,76.496746,17z/data=!4m5!3m4!1s0x3b07fdf1f167d581:0x5ce8d9291807f5b8!8m2!3d10.211093!4d76.4988059\"\n",
    "\n",
    "url = \"https://www.google.com/maps/place/KANJIRAPUZHA+DAM+View+Point/@10.9972981,76.5529238,17z/data=!3m1!4b1!4m12!1m6!3m5!1s0x3ba87db5747a98ab:0x3b73d3c931f6bc24!2sKANJIRAPUZHA+DAM+View+Point!8m2!3d10.9972981!4d76.5551125!3m4!1s0x3ba87db5747a98ab:0x3b73d3c931f6bc24!8m2!3d10.9972981!4d76.5551125\"\n",
    "\n",
    "url = \"https://www.google.com/maps/place/Kanjirapuzha+Dam+front+view/@10.9854159,76.5344599,17z/data=!4m12!1m6!3m5!1s0x3ba87db5747a98ab:0x3b73d3c931f6bc24!2sKANJIRAPUZHA+DAM+View+Point!8m2!3d10.9972981!4d76.5551125!3m4!1s0x0:0x3a97f06e7f030c4f!8m2!3d10.9857754!4d76.5354482\"\n",
    "\n",
    "url = \"https://www.google.com/maps/place/Velikkad+bus+stop/@10.8641566,76.5565659,17z/data=!3m1!4b1!4m5!3m4!1s0x3ba87b5ecd46b487:0x2050694828b1d5b6!8m2!3d10.8641566!4d76.5587546\"\n",
    "\n",
    "\"\"\""
   ]
  },
  {
   "cell_type": "code",
   "execution_count": null,
   "metadata": {},
   "outputs": [],
   "source": []
  }
 ],
 "metadata": {
  "kernelspec": {
   "display_name": "base",
   "language": "python",
   "name": "python3"
  },
  "language_info": {
   "codemirror_mode": {
    "name": "ipython",
    "version": 3
   },
   "file_extension": ".py",
   "mimetype": "text/x-python",
   "name": "python",
   "nbconvert_exporter": "python",
   "pygments_lexer": "ipython3",
   "version": "3.9.13"
  },
  "orig_nbformat": 4,
  "vscode": {
   "interpreter": {
    "hash": "f478284d55899b5d2ec1f26c110f4cbc25bc2ed2a73b486db755b0c265d0e676"
   }
  }
 },
 "nbformat": 4,
 "nbformat_minor": 2
}
